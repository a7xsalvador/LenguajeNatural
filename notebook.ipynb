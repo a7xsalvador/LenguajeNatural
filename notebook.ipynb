{
  "cells": [
    {
      "cell_type": "markdown",
      "source": "# Fases de entrenamiento de una red neuronal\n\nImportamos los datos de un corpus en español.\n\nCorpus de español:\n- AnCora | Github: https://github.com/UniversalDependencies/UD_Spanish-AnCora\n\n- usamos el conllu parser para leer el corpus: https://pypi.org/project/conllu/ . Es muy usado, se puede trabajar con pip install conllu\n\n- Etiquetas Universal POS (Documentación): https://universaldependencies.org/u/pos/ . Hay referencias universales para clasificar palabras\n",
      "metadata": {
        "tags": [],
        "cell_id": "00002-9a0d49c7-2434-4f8e-a4b9-72fb4a5b829e",
        "deepnote_cell_type": "markdown"
      }
    },
    {
      "cell_type": "code",
      "metadata": {
        "tags": [],
        "cell_id": "00003-0e79af9c-7208-44a0-ad09-cc42d949687c",
        "deepnote_to_be_reexecuted": false,
        "source_hash": "5c94efc5",
        "execution_millis": 5741,
        "execution_start": 1614874354113,
        "deepnote_cell_type": "code"
      },
      "source": "!pip install conllu\n!git clone https://github.com/UniversalDependencies/UD_Spanish-AnCora.git",
      "execution_count": 1,
      "outputs": [
        {
          "name": "stdout",
          "text": "Collecting conllu\n  Downloading conllu-4.4-py2.py3-none-any.whl (15 kB)\nInstalling collected packages: conllu\nSuccessfully installed conllu-4.4\n\u001b[33mWARNING: You are using pip version 20.1.1; however, version 21.0.1 is available.\nYou should consider upgrading via the '/root/venv/bin/python -m pip install --upgrade pip' command.\u001b[0m\nfatal: destination path 'UD_Spanish-AnCora' already exists and is not an empty directory.\n",
          "output_type": "stream"
        }
      ]
    },
    {
      "cell_type": "code",
      "metadata": {
        "tags": [],
        "cell_id": "00002-15eee690-5152-4216-bc67-3ba09a20716d",
        "deepnote_to_be_reexecuted": false,
        "source_hash": "cd228da6",
        "execution_millis": 6,
        "execution_start": 1614877980702,
        "deepnote_cell_type": "code"
      },
      "source": "#leer los datos que vienen de un archivo conllu\nfrom conllu import parse_incr\nwordlist = []#creo una lista vacía\ndata_file = open(\"UD_Spanish-AnCora/es_ancora-ud-dev.conllu\", \"r\", encoding=\"utf-8\") #abro el archivo que descargué al clonar el repositorio, agrego permisos de lectura con \"r\"\n\n#for tokenlist in parse_incr(data_file):\n#    print(tokenlist.serialize())\n    \n    #quiero ver los tokens\n    #serialize es un atributo propio del formato conllu, sirve para poder ver bien los tokens\n",
      "execution_count": 29,
      "outputs": []
    },
    {
      "cell_type": "markdown",
      "source": "Veamos la estructura de los tokens",
      "metadata": {
        "tags": [],
        "cell_id": "00005-86563dac-3109-4beb-9f95-a92d326d1ce6",
        "deepnote_cell_type": "markdown"
      }
    },
    {
      "cell_type": "code",
      "metadata": {
        "tags": [],
        "cell_id": "00004-feff9758-0bd2-4b0b-a68b-cdaa1d90a974",
        "deepnote_to_be_reexecuted": false,
        "source_hash": "d0d4b2ed",
        "execution_millis": 6,
        "execution_start": 1614874361827,
        "deepnote_cell_type": "code"
      },
      "source": "print(tokenlist)\nprint(tokenlist[1])",
      "execution_count": 3,
      "outputs": [
        {
          "name": "stdout",
          "text": "TokenList<Lo, cierto, es, que, a, mí, ,, me, da, un, poco, de, pena, .>\ncierto\n",
          "output_type": "stream"
        }
      ]
    },
    {
      "cell_type": "code",
      "metadata": {
        "tags": [],
        "cell_id": "00005-2f90f574-153c-4a82-9e83-5e920b1d592f",
        "deepnote_to_be_reexecuted": false,
        "source_hash": "6e9610cc",
        "execution_millis": 6,
        "execution_start": 1614874361833,
        "deepnote_cell_type": "code"
      },
      "source": "tokenlist[1]['form']+'|'+tokenlist[1]['upos']# el atributo form es una palabra, upos es la categoría gramatical.",
      "execution_count": 4,
      "outputs": [
        {
          "output_type": "execute_result",
          "execution_count": 4,
          "data": {
            "text/plain": "'cierto|ADJ'"
          },
          "metadata": {}
        }
      ]
    },
    {
      "cell_type": "code",
      "metadata": {
        "tags": [],
        "cell_id": "00006-2e9e8893-ca11-43fe-bab1-8731ac6d71c0",
        "deepnote_to_be_reexecuted": false,
        "source_hash": "64fb3f4e",
        "execution_millis": 6,
        "execution_start": 1614874361840,
        "deepnote_cell_type": "code"
      },
      "source": "for i in range(10):\n    print(tokenlist[i]['form']+'|'+tokenlist[i]['upos'])",
      "execution_count": 5,
      "outputs": [
        {
          "name": "stdout",
          "text": "Lo|PRON\ncierto|ADJ\nes|AUX\nque|SCONJ\na|ADP\nmí|PRON\n,|PUNCT\nme|PRON\nda|VERB\nun|DET\n",
          "output_type": "stream"
        }
      ]
    },
    {
      "cell_type": "markdown",
      "source": "# Entrenamiento del modelo- Calculo de conteos\nLa primera etapa es el cálculo de conteos\n\n- tags(tags) ``tagCountDict``: $C(tag)$\n- emisiones(word|tag) ``emissionProbDict``: $C(word|tag)$\n- transiciones(tag|prevtag) ``transitionDict``: $C(tag|prevtag)$",
      "metadata": {
        "tags": [],
        "cell_id": "00007-a6000be8-4cdc-4655-8ea6-e44be6801683",
        "deepnote_cell_type": "markdown"
      }
    },
    {
      "cell_type": "code",
      "metadata": {
        "tags": [],
        "cell_id": "00008-ce5e9451-b8af-4481-94ba-3e6be8c537f8",
        "deepnote_to_be_reexecuted": false,
        "source_hash": "76c1cb22",
        "execution_millis": 1518,
        "execution_start": 1614877500277,
        "deepnote_cell_type": "code"
      },
      "source": "#tenemos tres diccionarios inicialmente vacíos\n\ntagCountDict = {}\nemissionDict = {}\ntransitionDict = {}\n\ntagtype = 'upos'\ndata_file = open(\"UD_Spanish-AnCora/es_ancora-ud-dev.conllu\", \"r\", encoding=\"utf-8\") #abro el archivo que descargué al clonar el repositorio, agrego permisos de lectura con \"r\"\nfor tokenlist in parse_incr(data_file):\n    prevtag=None\n    for token in tokenlist:\n        #C(tag) el conteo de las etiquetas\n        tag = token[tagtype]\n        if tag in tagCountDict.keys():\n            tagCountDict[tag] +=1\n        else:\n            tagCountDict[tag] = 1\n\n        #C(WORD|tag) -> probabilidades de emisión\n        wordtag = token['form'].lower()+'|'+token[tagtype] #(palabra|etiqueta)\n        if wordtag in emissionProbDict.keys():\n            emissionDict[wordtag] +=1\n        else:\n            emissionDict[wordtag] = 1\n\n        #Ahora vamos a hacer un conteo para las probabilidades de transición\n        #C(tag|tag_previo)\n        \n        if prevtag is None:\n            prevtag=tag\n            continue\n        transitiontags = tag+'|'+prevtag\n        if transitiontags in transitionDict.keys():\n            transitionDict[transitiontags] = transitionDict[transitiontags] + 1\n        else:\n            transitionDict[transitiontags] = 1\n        prevtag = tag    \n",
      "execution_count": 23,
      "outputs": []
    },
    {
      "cell_type": "markdown",
      "source": "# Cálculo de probabilidades\n\n- Probabilidades de transición\n$$\nP(tag|prevtag)=\\frac{C(prevtag,tag)}{C(prevtag)}\n$$\n\n\n- Probabilidades de emisión\n\n$$\nP(word|tag)=\\frac{C(word,tag)}{C(tag)}\n$$",
      "metadata": {
        "tags": [],
        "cell_id": "00009-4fcfe40c-0efe-47e9-a39b-52b1a7c25086",
        "deepnote_cell_type": "markdown"
      }
    },
    {
      "cell_type": "code",
      "source": "transitionProbDict = {} # matriz A\nemissionProbDict = {} # matriz B\n\n# transition Probabilities \nfor key in transitionDict.keys():\n    tag, prevtag = key.split('|')\n    if tagCountDict[prevtag]>0:\n        transitionProbDict[key] = transitionDict[key]/(tagCountDict[prevtag])\n    else:\n        print(key)\n\n# emission Probabilities \nfor key in emissionDict.keys():\n    word, tag = key.split('|')\n    if emissionDict[key]>0:\n        emissionProbDict[key] = emissionDict[key]/tagCountDict[tag]\n    else:\n        print(key)\n\n\n",
      "metadata": {
        "tags": [],
        "cell_id": "00010-91d40dc5-407e-45ec-90fc-8b6ad40d9ca6",
        "deepnote_to_be_reexecuted": false,
        "source_hash": "6f803984",
        "execution_millis": 0,
        "execution_start": 1614877954033,
        "deepnote_cell_type": "code"
      },
      "outputs": [],
      "execution_count": 28
    },
    {
      "cell_type": "code",
      "source": "#Ya tenemos el modelo, ahora tenemos que guardarlo\nimport numpy as np\nnp.save('transitionHMM.npy', transitionProbDict)\nnp.save('emissionHMM.npy', emissionProbDict)\ntransitionProbdict = np.load('transitionHMM.npy', allow_pickle='TRUE').item()\ntransitionProbDict['ADJ|ADJ']",
      "metadata": {
        "tags": [],
        "cell_id": "00012-a87c9c41-28db-4b33-9a21-10db3652eb2d",
        "deepnote_to_be_reexecuted": false,
        "source_hash": "749d61d9",
        "execution_start": 1614877679273,
        "execution_millis": 5,
        "deepnote_cell_type": "code"
      },
      "outputs": [
        {
          "output_type": "execute_result",
          "execution_count": 27,
          "data": {
            "text/plain": "0.030225988700564973"
          },
          "metadata": {}
        }
      ],
      "execution_count": 27
    },
    {
      "cell_type": "markdown",
      "source": "<a style='text-decoration:none;line-height:16px;display:flex;color:#5B5B62;padding:10px;justify-content:end;' href='https://deepnote.com?utm_source=created-in-deepnote-cell&projectId=31a57299-7db0-417b-9a80-6e17fdb92497' target=\"_blank\">\n<img style='display:inline;max-height:16px;margin:0px;margin-right:7.5px;' src='data:image/svg+xml;base64,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' > </img>\nCreated in <span style='font-weight:600;margin-left:4px;'>Deepnote</span></a>",
      "metadata": {
        "tags": [],
        "created_in_deepnote_cell": true,
        "deepnote_cell_type": "markdown"
      }
    }
  ],
  "nbformat": 4,
  "nbformat_minor": 2,
  "metadata": {
    "orig_nbformat": 2,
    "deepnote_notebook_id": "44c9718d-246d-47ba-ab69-7530ee19dcda",
    "deepnote": {
      "is_reactive": false
    },
    "deepnote_execution_queue": []
  }
}